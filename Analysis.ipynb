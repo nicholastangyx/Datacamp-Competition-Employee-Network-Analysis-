{
 "cells": [
  {
   "cell_type": "code",
   "execution_count": 1,
   "id": "cbf5f0af",
   "metadata": {},
   "outputs": [],
   "source": [
    "import pandas as pd\n",
    "from matplotlib import pyplot as plt\n",
    "import plotly.express as px\n",
    "import plotly.graph_objects as go"
   ]
  },
  {
   "cell_type": "markdown",
   "id": "4fa18850",
   "metadata": {},
   "source": [
    "## The ultimate goal of this project is to think of ways to improve collaboration throughout the company. \n",
    "\n",
    "#### Create a report that covers the following:  \n",
    "####  1. Which departments are the most/least active?\n",
    "####  2. Which employee has the most connections? \n",
    "####  3. Identify the most influential departments and employees.\n",
    "####  4. Using the network analysis, in which departments would you recommend the HR team focus to boost collaboration?"
   ]
  },
  {
   "cell_type": "code",
   "execution_count": 2,
   "id": "7a8ad229",
   "metadata": {},
   "outputs": [],
   "source": [
    "# Import data from Datacamp downloaded file\n",
    "employees = pd.read_csv(r'C:\\Users\\Nicholas.Xiang\\OneDrive - Conrad Energy Limited\\Desktop\\Offline Work\\Datacamp\\Employee Network Analysis\\data\\employees.csv')\n",
    "messages = pd.read_csv(r'C:\\Users\\Nicholas.Xiang\\OneDrive - Conrad Energy Limited\\Desktop\\Offline Work\\Datacamp\\Employee Network Analysis\\data\\messages.csv')\n"
   ]
  },
  {
   "cell_type": "code",
   "execution_count": 46,
   "id": "a36effb4",
   "metadata": {},
   "outputs": [
    {
     "data": {
      "text/html": [
       "<div>\n",
       "<style scoped>\n",
       "    .dataframe tbody tr th:only-of-type {\n",
       "        vertical-align: middle;\n",
       "    }\n",
       "\n",
       "    .dataframe tbody tr th {\n",
       "        vertical-align: top;\n",
       "    }\n",
       "\n",
       "    .dataframe thead th {\n",
       "        text-align: right;\n",
       "    }\n",
       "</style>\n",
       "<table border=\"1\" class=\"dataframe\">\n",
       "  <thead>\n",
       "    <tr style=\"text-align: right;\">\n",
       "      <th></th>\n",
       "      <th>sender</th>\n",
       "      <th>receiver</th>\n",
       "      <th>timestamp</th>\n",
       "      <th>message_length</th>\n",
       "      <th>id_sender</th>\n",
       "      <th>department_sender</th>\n",
       "      <th>location_sender</th>\n",
       "      <th>age_sender</th>\n",
       "      <th>id_receiver</th>\n",
       "      <th>department_receiver</th>\n",
       "      <th>location_receiver</th>\n",
       "      <th>age_receiver</th>\n",
       "    </tr>\n",
       "  </thead>\n",
       "  <tbody>\n",
       "    <tr>\n",
       "      <th>0</th>\n",
       "      <td>79</td>\n",
       "      <td>48</td>\n",
       "      <td>2021-06-02T05:41:34.000Z</td>\n",
       "      <td>88</td>\n",
       "      <td>79</td>\n",
       "      <td>Sales</td>\n",
       "      <td>France</td>\n",
       "      <td>33</td>\n",
       "      <td>48</td>\n",
       "      <td>IT</td>\n",
       "      <td>France</td>\n",
       "      <td>34</td>\n",
       "    </tr>\n",
       "    <tr>\n",
       "      <th>1</th>\n",
       "      <td>144</td>\n",
       "      <td>48</td>\n",
       "      <td>2021-06-05T11:19:34.000Z</td>\n",
       "      <td>33</td>\n",
       "      <td>144</td>\n",
       "      <td>Sales</td>\n",
       "      <td>US</td>\n",
       "      <td>50</td>\n",
       "      <td>48</td>\n",
       "      <td>IT</td>\n",
       "      <td>France</td>\n",
       "      <td>34</td>\n",
       "    </tr>\n",
       "    <tr>\n",
       "      <th>2</th>\n",
       "      <td>144</td>\n",
       "      <td>48</td>\n",
       "      <td>2021-06-05T11:35:09.000Z</td>\n",
       "      <td>85</td>\n",
       "      <td>144</td>\n",
       "      <td>Sales</td>\n",
       "      <td>US</td>\n",
       "      <td>50</td>\n",
       "      <td>48</td>\n",
       "      <td>IT</td>\n",
       "      <td>France</td>\n",
       "      <td>34</td>\n",
       "    </tr>\n",
       "    <tr>\n",
       "      <th>3</th>\n",
       "      <td>144</td>\n",
       "      <td>48</td>\n",
       "      <td>2021-06-05T11:39:57.000Z</td>\n",
       "      <td>69</td>\n",
       "      <td>144</td>\n",
       "      <td>Sales</td>\n",
       "      <td>US</td>\n",
       "      <td>50</td>\n",
       "      <td>48</td>\n",
       "      <td>IT</td>\n",
       "      <td>France</td>\n",
       "      <td>34</td>\n",
       "    </tr>\n",
       "    <tr>\n",
       "      <th>4</th>\n",
       "      <td>144</td>\n",
       "      <td>48</td>\n",
       "      <td>2021-06-07T08:09:32.000Z</td>\n",
       "      <td>28</td>\n",
       "      <td>144</td>\n",
       "      <td>Sales</td>\n",
       "      <td>US</td>\n",
       "      <td>50</td>\n",
       "      <td>48</td>\n",
       "      <td>IT</td>\n",
       "      <td>France</td>\n",
       "      <td>34</td>\n",
       "    </tr>\n",
       "    <tr>\n",
       "      <th>...</th>\n",
       "      <td>...</td>\n",
       "      <td>...</td>\n",
       "      <td>...</td>\n",
       "      <td>...</td>\n",
       "      <td>...</td>\n",
       "      <td>...</td>\n",
       "      <td>...</td>\n",
       "      <td>...</td>\n",
       "      <td>...</td>\n",
       "      <td>...</td>\n",
       "      <td>...</td>\n",
       "      <td>...</td>\n",
       "    </tr>\n",
       "    <tr>\n",
       "      <th>3507</th>\n",
       "      <td>1881</td>\n",
       "      <td>1079</td>\n",
       "      <td>2021-11-17T07:11:12.000Z</td>\n",
       "      <td>22</td>\n",
       "      <td>1881</td>\n",
       "      <td>Sales</td>\n",
       "      <td>Germany</td>\n",
       "      <td>57</td>\n",
       "      <td>1079</td>\n",
       "      <td>Engineering</td>\n",
       "      <td>UK</td>\n",
       "      <td>58</td>\n",
       "    </tr>\n",
       "    <tr>\n",
       "      <th>3508</th>\n",
       "      <td>1881</td>\n",
       "      <td>1079</td>\n",
       "      <td>2021-11-17T07:21:27.000Z</td>\n",
       "      <td>41</td>\n",
       "      <td>1881</td>\n",
       "      <td>Sales</td>\n",
       "      <td>Germany</td>\n",
       "      <td>57</td>\n",
       "      <td>1079</td>\n",
       "      <td>Engineering</td>\n",
       "      <td>UK</td>\n",
       "      <td>58</td>\n",
       "    </tr>\n",
       "    <tr>\n",
       "      <th>3509</th>\n",
       "      <td>1881</td>\n",
       "      <td>1079</td>\n",
       "      <td>2021-11-17T07:25:51.000Z</td>\n",
       "      <td>28</td>\n",
       "      <td>1881</td>\n",
       "      <td>Sales</td>\n",
       "      <td>Germany</td>\n",
       "      <td>57</td>\n",
       "      <td>1079</td>\n",
       "      <td>Engineering</td>\n",
       "      <td>UK</td>\n",
       "      <td>58</td>\n",
       "    </tr>\n",
       "    <tr>\n",
       "      <th>3510</th>\n",
       "      <td>1881</td>\n",
       "      <td>1079</td>\n",
       "      <td>2021-11-17T07:27:59.000Z</td>\n",
       "      <td>45</td>\n",
       "      <td>1881</td>\n",
       "      <td>Sales</td>\n",
       "      <td>Germany</td>\n",
       "      <td>57</td>\n",
       "      <td>1079</td>\n",
       "      <td>Engineering</td>\n",
       "      <td>UK</td>\n",
       "      <td>58</td>\n",
       "    </tr>\n",
       "    <tr>\n",
       "      <th>3511</th>\n",
       "      <td>1881</td>\n",
       "      <td>1079</td>\n",
       "      <td>2021-11-17T07:30:01.000Z</td>\n",
       "      <td>19</td>\n",
       "      <td>1881</td>\n",
       "      <td>Sales</td>\n",
       "      <td>Germany</td>\n",
       "      <td>57</td>\n",
       "      <td>1079</td>\n",
       "      <td>Engineering</td>\n",
       "      <td>UK</td>\n",
       "      <td>58</td>\n",
       "    </tr>\n",
       "  </tbody>\n",
       "</table>\n",
       "<p>3512 rows × 12 columns</p>\n",
       "</div>"
      ],
      "text/plain": [
       "      sender  receiver                 timestamp  message_length  id_sender  \\\n",
       "0         79        48  2021-06-02T05:41:34.000Z              88         79   \n",
       "1        144        48  2021-06-05T11:19:34.000Z              33        144   \n",
       "2        144        48  2021-06-05T11:35:09.000Z              85        144   \n",
       "3        144        48  2021-06-05T11:39:57.000Z              69        144   \n",
       "4        144        48  2021-06-07T08:09:32.000Z              28        144   \n",
       "...      ...       ...                       ...             ...        ...   \n",
       "3507    1881      1079  2021-11-17T07:11:12.000Z              22       1881   \n",
       "3508    1881      1079  2021-11-17T07:21:27.000Z              41       1881   \n",
       "3509    1881      1079  2021-11-17T07:25:51.000Z              28       1881   \n",
       "3510    1881      1079  2021-11-17T07:27:59.000Z              45       1881   \n",
       "3511    1881      1079  2021-11-17T07:30:01.000Z              19       1881   \n",
       "\n",
       "     department_sender location_sender  age_sender  id_receiver  \\\n",
       "0                Sales          France          33           48   \n",
       "1                Sales              US          50           48   \n",
       "2                Sales              US          50           48   \n",
       "3                Sales              US          50           48   \n",
       "4                Sales              US          50           48   \n",
       "...                ...             ...         ...          ...   \n",
       "3507             Sales         Germany          57         1079   \n",
       "3508             Sales         Germany          57         1079   \n",
       "3509             Sales         Germany          57         1079   \n",
       "3510             Sales         Germany          57         1079   \n",
       "3511             Sales         Germany          57         1079   \n",
       "\n",
       "     department_receiver location_receiver  age_receiver  \n",
       "0                     IT            France            34  \n",
       "1                     IT            France            34  \n",
       "2                     IT            France            34  \n",
       "3                     IT            France            34  \n",
       "4                     IT            France            34  \n",
       "...                  ...               ...           ...  \n",
       "3507         Engineering                UK            58  \n",
       "3508         Engineering                UK            58  \n",
       "3509         Engineering                UK            58  \n",
       "3510         Engineering                UK            58  \n",
       "3511         Engineering                UK            58  \n",
       "\n",
       "[3512 rows x 12 columns]"
      ]
     },
     "execution_count": 46,
     "metadata": {},
     "output_type": "execute_result"
    }
   ],
   "source": [
    "# Merge both the dataframes into one \n",
    "# Merge the sender id to employee id\n",
    "df1 = messages.merge(employees, left_on='sender', right_on='id', how='inner')\n",
    "df1 = df1.rename(columns={'id': 'id_sender', 'department': 'department_sender', 'location': 'location_sender', 'age': 'age_sender'})\n",
    "df1\n",
    "\n",
    "# Merge the receiver id to employee id\n",
    "df2 = df1.merge(employees, left_on='receiver', right_on='id', how='inner')\n",
    "df2 = df2.rename(columns={'id': 'id_receiver', 'department': 'department_receiver', 'location': 'location_receiver', 'age': 'age_receiver'})\n",
    "df2"
   ]
  },
  {
   "cell_type": "markdown",
   "id": "2a773b71",
   "metadata": {},
   "source": [
    "### Which departments are the most/least active?"
   ]
  },
  {
   "cell_type": "code",
   "execution_count": 27,
   "id": "b6acc1d6",
   "metadata": {},
   "outputs": [
    {
     "data": {
      "text/html": [
       "<div>\n",
       "<style scoped>\n",
       "    .dataframe tbody tr th:only-of-type {\n",
       "        vertical-align: middle;\n",
       "    }\n",
       "\n",
       "    .dataframe tbody tr th {\n",
       "        vertical-align: top;\n",
       "    }\n",
       "\n",
       "    .dataframe thead th {\n",
       "        text-align: right;\n",
       "    }\n",
       "</style>\n",
       "<table border=\"1\" class=\"dataframe\">\n",
       "  <thead>\n",
       "    <tr style=\"text-align: right;\">\n",
       "      <th></th>\n",
       "      <th>department</th>\n",
       "      <th>sender</th>\n",
       "      <th>receiver</th>\n",
       "    </tr>\n",
       "  </thead>\n",
       "  <tbody>\n",
       "    <tr>\n",
       "      <th>0</th>\n",
       "      <td>Admin</td>\n",
       "      <td>857</td>\n",
       "      <td>797</td>\n",
       "    </tr>\n",
       "    <tr>\n",
       "      <th>1</th>\n",
       "      <td>Engineering</td>\n",
       "      <td>26</td>\n",
       "      <td>252</td>\n",
       "    </tr>\n",
       "    <tr>\n",
       "      <th>2</th>\n",
       "      <td>IT</td>\n",
       "      <td>49</td>\n",
       "      <td>249</td>\n",
       "    </tr>\n",
       "    <tr>\n",
       "      <th>3</th>\n",
       "      <td>Marketing</td>\n",
       "      <td>16</td>\n",
       "      <td>140</td>\n",
       "    </tr>\n",
       "    <tr>\n",
       "      <th>4</th>\n",
       "      <td>Operations</td>\n",
       "      <td>1013</td>\n",
       "      <td>845</td>\n",
       "    </tr>\n",
       "    <tr>\n",
       "      <th>5</th>\n",
       "      <td>Sales</td>\n",
       "      <td>1551</td>\n",
       "      <td>1229</td>\n",
       "    </tr>\n",
       "  </tbody>\n",
       "</table>\n",
       "</div>"
      ],
      "text/plain": [
       "    department  sender  receiver\n",
       "0        Admin     857       797\n",
       "1  Engineering      26       252\n",
       "2           IT      49       249\n",
       "3    Marketing      16       140\n",
       "4   Operations    1013       845\n",
       "5        Sales    1551      1229"
      ]
     },
     "execution_count": 27,
     "metadata": {},
     "output_type": "execute_result"
    }
   ],
   "source": [
    "# Here we aggregate how many times a person from the department sent a message (column which to aggregate doesn't matter since we only wanted count)\n",
    "sender = df2.groupby(['department_sender']).agg({'sender': 'count'}).reset_index()\n",
    "receiver = df2.groupby(['department_receiver']).agg({'receiver': 'count'}).reset_index()\n",
    "\n",
    "sender_receiver = sender.merge(receiver, left_on='department_sender', right_on='department_receiver', how='inner').drop('department_receiver', axis=1).rename(columns={'department_sender': 'department'})\n",
    "sender_receiver"
   ]
  },
  {
   "cell_type": "code",
   "execution_count": 41,
   "id": "0d97ef62",
   "metadata": {
    "scrolled": false
   },
   "outputs": [
    {
     "data": {
      "application/vnd.plotly.v1+json": {
       "config": {
        "plotlyServerURL": "https://plot.ly"
       },
       "data": [
        {
         "marker": {
          "color": [
           "indianred",
           "indianred",
           "indianred",
           "lightblue",
           "indianred",
           "darkblue"
          ]
         },
         "name": "Sender",
         "text": [
          857,
          26,
          49,
          16,
          1013,
          1551
         ],
         "textposition": "outside",
         "type": "bar",
         "x": [
          "Admin",
          "Engineering",
          "IT",
          "Marketing",
          "Operations",
          "Sales"
         ],
         "y": [
          857,
          26,
          49,
          16,
          1013,
          1551
         ]
        },
        {
         "marker": {
          "color": [
           "lightsalmon",
           "lightsalmon",
           "lightsalmon",
           "lightblue",
           "lightsalmon",
           "darkblue"
          ]
         },
         "name": "Receiver",
         "text": [
          797,
          252,
          249,
          140,
          845,
          1229
         ],
         "textposition": "outside",
         "type": "bar",
         "x": [
          "Admin",
          "Engineering",
          "IT",
          "Marketing",
          "Operations",
          "Sales"
         ],
         "y": [
          797,
          252,
          249,
          140,
          845,
          1229
         ]
        }
       ],
       "layout": {
        "barmode": "group",
        "legend": {
         "title": {
          "text": "Legend"
         }
        },
        "template": {
         "data": {
          "bar": [
           {
            "error_x": {
             "color": "#2a3f5f"
            },
            "error_y": {
             "color": "#2a3f5f"
            },
            "marker": {
             "line": {
              "color": "#E5ECF6",
              "width": 0.5
             },
             "pattern": {
              "fillmode": "overlay",
              "size": 10,
              "solidity": 0.2
             }
            },
            "type": "bar"
           }
          ],
          "barpolar": [
           {
            "marker": {
             "line": {
              "color": "#E5ECF6",
              "width": 0.5
             },
             "pattern": {
              "fillmode": "overlay",
              "size": 10,
              "solidity": 0.2
             }
            },
            "type": "barpolar"
           }
          ],
          "carpet": [
           {
            "aaxis": {
             "endlinecolor": "#2a3f5f",
             "gridcolor": "white",
             "linecolor": "white",
             "minorgridcolor": "white",
             "startlinecolor": "#2a3f5f"
            },
            "baxis": {
             "endlinecolor": "#2a3f5f",
             "gridcolor": "white",
             "linecolor": "white",
             "minorgridcolor": "white",
             "startlinecolor": "#2a3f5f"
            },
            "type": "carpet"
           }
          ],
          "choropleth": [
           {
            "colorbar": {
             "outlinewidth": 0,
             "ticks": ""
            },
            "type": "choropleth"
           }
          ],
          "contour": [
           {
            "colorbar": {
             "outlinewidth": 0,
             "ticks": ""
            },
            "colorscale": [
             [
              0,
              "#0d0887"
             ],
             [
              0.1111111111111111,
              "#46039f"
             ],
             [
              0.2222222222222222,
              "#7201a8"
             ],
             [
              0.3333333333333333,
              "#9c179e"
             ],
             [
              0.4444444444444444,
              "#bd3786"
             ],
             [
              0.5555555555555556,
              "#d8576b"
             ],
             [
              0.6666666666666666,
              "#ed7953"
             ],
             [
              0.7777777777777778,
              "#fb9f3a"
             ],
             [
              0.8888888888888888,
              "#fdca26"
             ],
             [
              1,
              "#f0f921"
             ]
            ],
            "type": "contour"
           }
          ],
          "contourcarpet": [
           {
            "colorbar": {
             "outlinewidth": 0,
             "ticks": ""
            },
            "type": "contourcarpet"
           }
          ],
          "heatmap": [
           {
            "colorbar": {
             "outlinewidth": 0,
             "ticks": ""
            },
            "colorscale": [
             [
              0,
              "#0d0887"
             ],
             [
              0.1111111111111111,
              "#46039f"
             ],
             [
              0.2222222222222222,
              "#7201a8"
             ],
             [
              0.3333333333333333,
              "#9c179e"
             ],
             [
              0.4444444444444444,
              "#bd3786"
             ],
             [
              0.5555555555555556,
              "#d8576b"
             ],
             [
              0.6666666666666666,
              "#ed7953"
             ],
             [
              0.7777777777777778,
              "#fb9f3a"
             ],
             [
              0.8888888888888888,
              "#fdca26"
             ],
             [
              1,
              "#f0f921"
             ]
            ],
            "type": "heatmap"
           }
          ],
          "heatmapgl": [
           {
            "colorbar": {
             "outlinewidth": 0,
             "ticks": ""
            },
            "colorscale": [
             [
              0,
              "#0d0887"
             ],
             [
              0.1111111111111111,
              "#46039f"
             ],
             [
              0.2222222222222222,
              "#7201a8"
             ],
             [
              0.3333333333333333,
              "#9c179e"
             ],
             [
              0.4444444444444444,
              "#bd3786"
             ],
             [
              0.5555555555555556,
              "#d8576b"
             ],
             [
              0.6666666666666666,
              "#ed7953"
             ],
             [
              0.7777777777777778,
              "#fb9f3a"
             ],
             [
              0.8888888888888888,
              "#fdca26"
             ],
             [
              1,
              "#f0f921"
             ]
            ],
            "type": "heatmapgl"
           }
          ],
          "histogram": [
           {
            "marker": {
             "pattern": {
              "fillmode": "overlay",
              "size": 10,
              "solidity": 0.2
             }
            },
            "type": "histogram"
           }
          ],
          "histogram2d": [
           {
            "colorbar": {
             "outlinewidth": 0,
             "ticks": ""
            },
            "colorscale": [
             [
              0,
              "#0d0887"
             ],
             [
              0.1111111111111111,
              "#46039f"
             ],
             [
              0.2222222222222222,
              "#7201a8"
             ],
             [
              0.3333333333333333,
              "#9c179e"
             ],
             [
              0.4444444444444444,
              "#bd3786"
             ],
             [
              0.5555555555555556,
              "#d8576b"
             ],
             [
              0.6666666666666666,
              "#ed7953"
             ],
             [
              0.7777777777777778,
              "#fb9f3a"
             ],
             [
              0.8888888888888888,
              "#fdca26"
             ],
             [
              1,
              "#f0f921"
             ]
            ],
            "type": "histogram2d"
           }
          ],
          "histogram2dcontour": [
           {
            "colorbar": {
             "outlinewidth": 0,
             "ticks": ""
            },
            "colorscale": [
             [
              0,
              "#0d0887"
             ],
             [
              0.1111111111111111,
              "#46039f"
             ],
             [
              0.2222222222222222,
              "#7201a8"
             ],
             [
              0.3333333333333333,
              "#9c179e"
             ],
             [
              0.4444444444444444,
              "#bd3786"
             ],
             [
              0.5555555555555556,
              "#d8576b"
             ],
             [
              0.6666666666666666,
              "#ed7953"
             ],
             [
              0.7777777777777778,
              "#fb9f3a"
             ],
             [
              0.8888888888888888,
              "#fdca26"
             ],
             [
              1,
              "#f0f921"
             ]
            ],
            "type": "histogram2dcontour"
           }
          ],
          "mesh3d": [
           {
            "colorbar": {
             "outlinewidth": 0,
             "ticks": ""
            },
            "type": "mesh3d"
           }
          ],
          "parcoords": [
           {
            "line": {
             "colorbar": {
              "outlinewidth": 0,
              "ticks": ""
             }
            },
            "type": "parcoords"
           }
          ],
          "pie": [
           {
            "automargin": true,
            "type": "pie"
           }
          ],
          "scatter": [
           {
            "fillpattern": {
             "fillmode": "overlay",
             "size": 10,
             "solidity": 0.2
            },
            "type": "scatter"
           }
          ],
          "scatter3d": [
           {
            "line": {
             "colorbar": {
              "outlinewidth": 0,
              "ticks": ""
             }
            },
            "marker": {
             "colorbar": {
              "outlinewidth": 0,
              "ticks": ""
             }
            },
            "type": "scatter3d"
           }
          ],
          "scattercarpet": [
           {
            "marker": {
             "colorbar": {
              "outlinewidth": 0,
              "ticks": ""
             }
            },
            "type": "scattercarpet"
           }
          ],
          "scattergeo": [
           {
            "marker": {
             "colorbar": {
              "outlinewidth": 0,
              "ticks": ""
             }
            },
            "type": "scattergeo"
           }
          ],
          "scattergl": [
           {
            "marker": {
             "colorbar": {
              "outlinewidth": 0,
              "ticks": ""
             }
            },
            "type": "scattergl"
           }
          ],
          "scattermapbox": [
           {
            "marker": {
             "colorbar": {
              "outlinewidth": 0,
              "ticks": ""
             }
            },
            "type": "scattermapbox"
           }
          ],
          "scatterpolar": [
           {
            "marker": {
             "colorbar": {
              "outlinewidth": 0,
              "ticks": ""
             }
            },
            "type": "scatterpolar"
           }
          ],
          "scatterpolargl": [
           {
            "marker": {
             "colorbar": {
              "outlinewidth": 0,
              "ticks": ""
             }
            },
            "type": "scatterpolargl"
           }
          ],
          "scatterternary": [
           {
            "marker": {
             "colorbar": {
              "outlinewidth": 0,
              "ticks": ""
             }
            },
            "type": "scatterternary"
           }
          ],
          "surface": [
           {
            "colorbar": {
             "outlinewidth": 0,
             "ticks": ""
            },
            "colorscale": [
             [
              0,
              "#0d0887"
             ],
             [
              0.1111111111111111,
              "#46039f"
             ],
             [
              0.2222222222222222,
              "#7201a8"
             ],
             [
              0.3333333333333333,
              "#9c179e"
             ],
             [
              0.4444444444444444,
              "#bd3786"
             ],
             [
              0.5555555555555556,
              "#d8576b"
             ],
             [
              0.6666666666666666,
              "#ed7953"
             ],
             [
              0.7777777777777778,
              "#fb9f3a"
             ],
             [
              0.8888888888888888,
              "#fdca26"
             ],
             [
              1,
              "#f0f921"
             ]
            ],
            "type": "surface"
           }
          ],
          "table": [
           {
            "cells": {
             "fill": {
              "color": "#EBF0F8"
             },
             "line": {
              "color": "white"
             }
            },
            "header": {
             "fill": {
              "color": "#C8D4E3"
             },
             "line": {
              "color": "white"
             }
            },
            "type": "table"
           }
          ]
         },
         "layout": {
          "annotationdefaults": {
           "arrowcolor": "#2a3f5f",
           "arrowhead": 0,
           "arrowwidth": 1
          },
          "autotypenumbers": "strict",
          "coloraxis": {
           "colorbar": {
            "outlinewidth": 0,
            "ticks": ""
           }
          },
          "colorscale": {
           "diverging": [
            [
             0,
             "#8e0152"
            ],
            [
             0.1,
             "#c51b7d"
            ],
            [
             0.2,
             "#de77ae"
            ],
            [
             0.3,
             "#f1b6da"
            ],
            [
             0.4,
             "#fde0ef"
            ],
            [
             0.5,
             "#f7f7f7"
            ],
            [
             0.6,
             "#e6f5d0"
            ],
            [
             0.7,
             "#b8e186"
            ],
            [
             0.8,
             "#7fbc41"
            ],
            [
             0.9,
             "#4d9221"
            ],
            [
             1,
             "#276419"
            ]
           ],
           "sequential": [
            [
             0,
             "#0d0887"
            ],
            [
             0.1111111111111111,
             "#46039f"
            ],
            [
             0.2222222222222222,
             "#7201a8"
            ],
            [
             0.3333333333333333,
             "#9c179e"
            ],
            [
             0.4444444444444444,
             "#bd3786"
            ],
            [
             0.5555555555555556,
             "#d8576b"
            ],
            [
             0.6666666666666666,
             "#ed7953"
            ],
            [
             0.7777777777777778,
             "#fb9f3a"
            ],
            [
             0.8888888888888888,
             "#fdca26"
            ],
            [
             1,
             "#f0f921"
            ]
           ],
           "sequentialminus": [
            [
             0,
             "#0d0887"
            ],
            [
             0.1111111111111111,
             "#46039f"
            ],
            [
             0.2222222222222222,
             "#7201a8"
            ],
            [
             0.3333333333333333,
             "#9c179e"
            ],
            [
             0.4444444444444444,
             "#bd3786"
            ],
            [
             0.5555555555555556,
             "#d8576b"
            ],
            [
             0.6666666666666666,
             "#ed7953"
            ],
            [
             0.7777777777777778,
             "#fb9f3a"
            ],
            [
             0.8888888888888888,
             "#fdca26"
            ],
            [
             1,
             "#f0f921"
            ]
           ]
          },
          "colorway": [
           "#636efa",
           "#EF553B",
           "#00cc96",
           "#ab63fa",
           "#FFA15A",
           "#19d3f3",
           "#FF6692",
           "#B6E880",
           "#FF97FF",
           "#FECB52"
          ],
          "font": {
           "color": "#2a3f5f"
          },
          "geo": {
           "bgcolor": "white",
           "lakecolor": "white",
           "landcolor": "#E5ECF6",
           "showlakes": true,
           "showland": true,
           "subunitcolor": "white"
          },
          "hoverlabel": {
           "align": "left"
          },
          "hovermode": "closest",
          "mapbox": {
           "style": "light"
          },
          "paper_bgcolor": "white",
          "plot_bgcolor": "#E5ECF6",
          "polar": {
           "angularaxis": {
            "gridcolor": "white",
            "linecolor": "white",
            "ticks": ""
           },
           "bgcolor": "#E5ECF6",
           "radialaxis": {
            "gridcolor": "white",
            "linecolor": "white",
            "ticks": ""
           }
          },
          "scene": {
           "xaxis": {
            "backgroundcolor": "#E5ECF6",
            "gridcolor": "white",
            "gridwidth": 2,
            "linecolor": "white",
            "showbackground": true,
            "ticks": "",
            "zerolinecolor": "white"
           },
           "yaxis": {
            "backgroundcolor": "#E5ECF6",
            "gridcolor": "white",
            "gridwidth": 2,
            "linecolor": "white",
            "showbackground": true,
            "ticks": "",
            "zerolinecolor": "white"
           },
           "zaxis": {
            "backgroundcolor": "#E5ECF6",
            "gridcolor": "white",
            "gridwidth": 2,
            "linecolor": "white",
            "showbackground": true,
            "ticks": "",
            "zerolinecolor": "white"
           }
          },
          "shapedefaults": {
           "line": {
            "color": "#2a3f5f"
           }
          },
          "ternary": {
           "aaxis": {
            "gridcolor": "white",
            "linecolor": "white",
            "ticks": ""
           },
           "baxis": {
            "gridcolor": "white",
            "linecolor": "white",
            "ticks": ""
           },
           "bgcolor": "#E5ECF6",
           "caxis": {
            "gridcolor": "white",
            "linecolor": "white",
            "ticks": ""
           }
          },
          "title": {
           "x": 0.05
          },
          "xaxis": {
           "automargin": true,
           "gridcolor": "white",
           "linecolor": "white",
           "ticks": "",
           "title": {
            "standoff": 15
           },
           "zerolinecolor": "white",
           "zerolinewidth": 2
          },
          "yaxis": {
           "automargin": true,
           "gridcolor": "white",
           "linecolor": "white",
           "ticks": "",
           "title": {
            "standoff": 15
           },
           "zerolinecolor": "white",
           "zerolinewidth": 2
          }
         }
        },
        "title": {
         "text": "Amount of Messages Sent/Received by Department"
        },
        "xaxis": {
         "tickangle": -45,
         "title": {
          "text": "Department"
         }
        },
        "yaxis": {
         "title": {
          "text": "Number of Messages Sent/Received"
         }
        }
       }
      },
      "text/html": [
       "<div>                            <div id=\"09b18312-8839-4953-a759-6ae8a8fa73ce\" class=\"plotly-graph-div\" style=\"height:525px; width:100%;\"></div>            <script type=\"text/javascript\">                require([\"plotly\"], function(Plotly) {                    window.PLOTLYENV=window.PLOTLYENV || {};                                    if (document.getElementById(\"09b18312-8839-4953-a759-6ae8a8fa73ce\")) {                    Plotly.newPlot(                        \"09b18312-8839-4953-a759-6ae8a8fa73ce\",                        [{\"marker\":{\"color\":[\"indianred\",\"indianred\",\"indianred\",\"lightblue\",\"indianred\",\"darkblue\"]},\"name\":\"Sender\",\"text\":[857.0,26.0,49.0,16.0,1013.0,1551.0],\"textposition\":\"outside\",\"x\":[\"Admin\",\"Engineering\",\"IT\",\"Marketing\",\"Operations\",\"Sales\"],\"y\":[857,26,49,16,1013,1551],\"type\":\"bar\"},{\"marker\":{\"color\":[\"lightsalmon\",\"lightsalmon\",\"lightsalmon\",\"lightblue\",\"lightsalmon\",\"darkblue\"]},\"name\":\"Receiver\",\"text\":[797.0,252.0,249.0,140.0,845.0,1229.0],\"textposition\":\"outside\",\"x\":[\"Admin\",\"Engineering\",\"IT\",\"Marketing\",\"Operations\",\"Sales\"],\"y\":[797,252,249,140,845,1229],\"type\":\"bar\"}],                        {\"template\":{\"data\":{\"histogram2dcontour\":[{\"type\":\"histogram2dcontour\",\"colorbar\":{\"outlinewidth\":0,\"ticks\":\"\"},\"colorscale\":[[0.0,\"#0d0887\"],[0.1111111111111111,\"#46039f\"],[0.2222222222222222,\"#7201a8\"],[0.3333333333333333,\"#9c179e\"],[0.4444444444444444,\"#bd3786\"],[0.5555555555555556,\"#d8576b\"],[0.6666666666666666,\"#ed7953\"],[0.7777777777777778,\"#fb9f3a\"],[0.8888888888888888,\"#fdca26\"],[1.0,\"#f0f921\"]]}],\"choropleth\":[{\"type\":\"choropleth\",\"colorbar\":{\"outlinewidth\":0,\"ticks\":\"\"}}],\"histogram2d\":[{\"type\":\"histogram2d\",\"colorbar\":{\"outlinewidth\":0,\"ticks\":\"\"},\"colorscale\":[[0.0,\"#0d0887\"],[0.1111111111111111,\"#46039f\"],[0.2222222222222222,\"#7201a8\"],[0.3333333333333333,\"#9c179e\"],[0.4444444444444444,\"#bd3786\"],[0.5555555555555556,\"#d8576b\"],[0.6666666666666666,\"#ed7953\"],[0.7777777777777778,\"#fb9f3a\"],[0.8888888888888888,\"#fdca26\"],[1.0,\"#f0f921\"]]}],\"heatmap\":[{\"type\":\"heatmap\",\"colorbar\":{\"outlinewidth\":0,\"ticks\":\"\"},\"colorscale\":[[0.0,\"#0d0887\"],[0.1111111111111111,\"#46039f\"],[0.2222222222222222,\"#7201a8\"],[0.3333333333333333,\"#9c179e\"],[0.4444444444444444,\"#bd3786\"],[0.5555555555555556,\"#d8576b\"],[0.6666666666666666,\"#ed7953\"],[0.7777777777777778,\"#fb9f3a\"],[0.8888888888888888,\"#fdca26\"],[1.0,\"#f0f921\"]]}],\"heatmapgl\":[{\"type\":\"heatmapgl\",\"colorbar\":{\"outlinewidth\":0,\"ticks\":\"\"},\"colorscale\":[[0.0,\"#0d0887\"],[0.1111111111111111,\"#46039f\"],[0.2222222222222222,\"#7201a8\"],[0.3333333333333333,\"#9c179e\"],[0.4444444444444444,\"#bd3786\"],[0.5555555555555556,\"#d8576b\"],[0.6666666666666666,\"#ed7953\"],[0.7777777777777778,\"#fb9f3a\"],[0.8888888888888888,\"#fdca26\"],[1.0,\"#f0f921\"]]}],\"contourcarpet\":[{\"type\":\"contourcarpet\",\"colorbar\":{\"outlinewidth\":0,\"ticks\":\"\"}}],\"contour\":[{\"type\":\"contour\",\"colorbar\":{\"outlinewidth\":0,\"ticks\":\"\"},\"colorscale\":[[0.0,\"#0d0887\"],[0.1111111111111111,\"#46039f\"],[0.2222222222222222,\"#7201a8\"],[0.3333333333333333,\"#9c179e\"],[0.4444444444444444,\"#bd3786\"],[0.5555555555555556,\"#d8576b\"],[0.6666666666666666,\"#ed7953\"],[0.7777777777777778,\"#fb9f3a\"],[0.8888888888888888,\"#fdca26\"],[1.0,\"#f0f921\"]]}],\"surface\":[{\"type\":\"surface\",\"colorbar\":{\"outlinewidth\":0,\"ticks\":\"\"},\"colorscale\":[[0.0,\"#0d0887\"],[0.1111111111111111,\"#46039f\"],[0.2222222222222222,\"#7201a8\"],[0.3333333333333333,\"#9c179e\"],[0.4444444444444444,\"#bd3786\"],[0.5555555555555556,\"#d8576b\"],[0.6666666666666666,\"#ed7953\"],[0.7777777777777778,\"#fb9f3a\"],[0.8888888888888888,\"#fdca26\"],[1.0,\"#f0f921\"]]}],\"mesh3d\":[{\"type\":\"mesh3d\",\"colorbar\":{\"outlinewidth\":0,\"ticks\":\"\"}}],\"scatter\":[{\"fillpattern\":{\"fillmode\":\"overlay\",\"size\":10,\"solidity\":0.2},\"type\":\"scatter\"}],\"parcoords\":[{\"type\":\"parcoords\",\"line\":{\"colorbar\":{\"outlinewidth\":0,\"ticks\":\"\"}}}],\"scatterpolargl\":[{\"type\":\"scatterpolargl\",\"marker\":{\"colorbar\":{\"outlinewidth\":0,\"ticks\":\"\"}}}],\"bar\":[{\"error_x\":{\"color\":\"#2a3f5f\"},\"error_y\":{\"color\":\"#2a3f5f\"},\"marker\":{\"line\":{\"color\":\"#E5ECF6\",\"width\":0.5},\"pattern\":{\"fillmode\":\"overlay\",\"size\":10,\"solidity\":0.2}},\"type\":\"bar\"}],\"scattergeo\":[{\"type\":\"scattergeo\",\"marker\":{\"colorbar\":{\"outlinewidth\":0,\"ticks\":\"\"}}}],\"scatterpolar\":[{\"type\":\"scatterpolar\",\"marker\":{\"colorbar\":{\"outlinewidth\":0,\"ticks\":\"\"}}}],\"histogram\":[{\"marker\":{\"pattern\":{\"fillmode\":\"overlay\",\"size\":10,\"solidity\":0.2}},\"type\":\"histogram\"}],\"scattergl\":[{\"type\":\"scattergl\",\"marker\":{\"colorbar\":{\"outlinewidth\":0,\"ticks\":\"\"}}}],\"scatter3d\":[{\"type\":\"scatter3d\",\"line\":{\"colorbar\":{\"outlinewidth\":0,\"ticks\":\"\"}},\"marker\":{\"colorbar\":{\"outlinewidth\":0,\"ticks\":\"\"}}}],\"scattermapbox\":[{\"type\":\"scattermapbox\",\"marker\":{\"colorbar\":{\"outlinewidth\":0,\"ticks\":\"\"}}}],\"scatterternary\":[{\"type\":\"scatterternary\",\"marker\":{\"colorbar\":{\"outlinewidth\":0,\"ticks\":\"\"}}}],\"scattercarpet\":[{\"type\":\"scattercarpet\",\"marker\":{\"colorbar\":{\"outlinewidth\":0,\"ticks\":\"\"}}}],\"carpet\":[{\"aaxis\":{\"endlinecolor\":\"#2a3f5f\",\"gridcolor\":\"white\",\"linecolor\":\"white\",\"minorgridcolor\":\"white\",\"startlinecolor\":\"#2a3f5f\"},\"baxis\":{\"endlinecolor\":\"#2a3f5f\",\"gridcolor\":\"white\",\"linecolor\":\"white\",\"minorgridcolor\":\"white\",\"startlinecolor\":\"#2a3f5f\"},\"type\":\"carpet\"}],\"table\":[{\"cells\":{\"fill\":{\"color\":\"#EBF0F8\"},\"line\":{\"color\":\"white\"}},\"header\":{\"fill\":{\"color\":\"#C8D4E3\"},\"line\":{\"color\":\"white\"}},\"type\":\"table\"}],\"barpolar\":[{\"marker\":{\"line\":{\"color\":\"#E5ECF6\",\"width\":0.5},\"pattern\":{\"fillmode\":\"overlay\",\"size\":10,\"solidity\":0.2}},\"type\":\"barpolar\"}],\"pie\":[{\"automargin\":true,\"type\":\"pie\"}]},\"layout\":{\"autotypenumbers\":\"strict\",\"colorway\":[\"#636efa\",\"#EF553B\",\"#00cc96\",\"#ab63fa\",\"#FFA15A\",\"#19d3f3\",\"#FF6692\",\"#B6E880\",\"#FF97FF\",\"#FECB52\"],\"font\":{\"color\":\"#2a3f5f\"},\"hovermode\":\"closest\",\"hoverlabel\":{\"align\":\"left\"},\"paper_bgcolor\":\"white\",\"plot_bgcolor\":\"#E5ECF6\",\"polar\":{\"bgcolor\":\"#E5ECF6\",\"angularaxis\":{\"gridcolor\":\"white\",\"linecolor\":\"white\",\"ticks\":\"\"},\"radialaxis\":{\"gridcolor\":\"white\",\"linecolor\":\"white\",\"ticks\":\"\"}},\"ternary\":{\"bgcolor\":\"#E5ECF6\",\"aaxis\":{\"gridcolor\":\"white\",\"linecolor\":\"white\",\"ticks\":\"\"},\"baxis\":{\"gridcolor\":\"white\",\"linecolor\":\"white\",\"ticks\":\"\"},\"caxis\":{\"gridcolor\":\"white\",\"linecolor\":\"white\",\"ticks\":\"\"}},\"coloraxis\":{\"colorbar\":{\"outlinewidth\":0,\"ticks\":\"\"}},\"colorscale\":{\"sequential\":[[0.0,\"#0d0887\"],[0.1111111111111111,\"#46039f\"],[0.2222222222222222,\"#7201a8\"],[0.3333333333333333,\"#9c179e\"],[0.4444444444444444,\"#bd3786\"],[0.5555555555555556,\"#d8576b\"],[0.6666666666666666,\"#ed7953\"],[0.7777777777777778,\"#fb9f3a\"],[0.8888888888888888,\"#fdca26\"],[1.0,\"#f0f921\"]],\"sequentialminus\":[[0.0,\"#0d0887\"],[0.1111111111111111,\"#46039f\"],[0.2222222222222222,\"#7201a8\"],[0.3333333333333333,\"#9c179e\"],[0.4444444444444444,\"#bd3786\"],[0.5555555555555556,\"#d8576b\"],[0.6666666666666666,\"#ed7953\"],[0.7777777777777778,\"#fb9f3a\"],[0.8888888888888888,\"#fdca26\"],[1.0,\"#f0f921\"]],\"diverging\":[[0,\"#8e0152\"],[0.1,\"#c51b7d\"],[0.2,\"#de77ae\"],[0.3,\"#f1b6da\"],[0.4,\"#fde0ef\"],[0.5,\"#f7f7f7\"],[0.6,\"#e6f5d0\"],[0.7,\"#b8e186\"],[0.8,\"#7fbc41\"],[0.9,\"#4d9221\"],[1,\"#276419\"]]},\"xaxis\":{\"gridcolor\":\"white\",\"linecolor\":\"white\",\"ticks\":\"\",\"title\":{\"standoff\":15},\"zerolinecolor\":\"white\",\"automargin\":true,\"zerolinewidth\":2},\"yaxis\":{\"gridcolor\":\"white\",\"linecolor\":\"white\",\"ticks\":\"\",\"title\":{\"standoff\":15},\"zerolinecolor\":\"white\",\"automargin\":true,\"zerolinewidth\":2},\"scene\":{\"xaxis\":{\"backgroundcolor\":\"#E5ECF6\",\"gridcolor\":\"white\",\"linecolor\":\"white\",\"showbackground\":true,\"ticks\":\"\",\"zerolinecolor\":\"white\",\"gridwidth\":2},\"yaxis\":{\"backgroundcolor\":\"#E5ECF6\",\"gridcolor\":\"white\",\"linecolor\":\"white\",\"showbackground\":true,\"ticks\":\"\",\"zerolinecolor\":\"white\",\"gridwidth\":2},\"zaxis\":{\"backgroundcolor\":\"#E5ECF6\",\"gridcolor\":\"white\",\"linecolor\":\"white\",\"showbackground\":true,\"ticks\":\"\",\"zerolinecolor\":\"white\",\"gridwidth\":2}},\"shapedefaults\":{\"line\":{\"color\":\"#2a3f5f\"}},\"annotationdefaults\":{\"arrowcolor\":\"#2a3f5f\",\"arrowhead\":0,\"arrowwidth\":1},\"geo\":{\"bgcolor\":\"white\",\"landcolor\":\"#E5ECF6\",\"subunitcolor\":\"white\",\"showland\":true,\"showlakes\":true,\"lakecolor\":\"white\"},\"title\":{\"x\":0.05},\"mapbox\":{\"style\":\"light\"}}},\"xaxis\":{\"tickangle\":-45,\"title\":{\"text\":\"Department\"}},\"barmode\":\"group\",\"title\":{\"text\":\"Amount of Messages Sent/Received by Department\"},\"yaxis\":{\"title\":{\"text\":\"Number of Messages Sent/Received\"}},\"legend\":{\"title\":{\"text\":\"Legend\"}}},                        {\"responsive\": true}                    ).then(function(){\n",
       "                            \n",
       "var gd = document.getElementById('09b18312-8839-4953-a759-6ae8a8fa73ce');\n",
       "var x = new MutationObserver(function (mutations, observer) {{\n",
       "        var display = window.getComputedStyle(gd).display;\n",
       "        if (!display || display === 'none') {{\n",
       "            console.log([gd, 'removed!']);\n",
       "            Plotly.purge(gd);\n",
       "            observer.disconnect();\n",
       "        }}\n",
       "}});\n",
       "\n",
       "// Listen for the removal of the full notebook cells\n",
       "var notebookContainer = gd.closest('#notebook-container');\n",
       "if (notebookContainer) {{\n",
       "    x.observe(notebookContainer, {childList: true});\n",
       "}}\n",
       "\n",
       "// Listen for the clearing of the current output cell\n",
       "var outputEl = gd.closest('.output');\n",
       "if (outputEl) {{\n",
       "    x.observe(outputEl, {childList: true});\n",
       "}}\n",
       "\n",
       "                        })                };                });            </script>        </div>"
      ]
     },
     "metadata": {},
     "output_type": "display_data"
    }
   ],
   "source": [
    "# from plotly.graph_objs import *\n",
    "\n",
    "# Colors to be used in the graph\n",
    "colors = ['indianred'] * 6\n",
    "colors[3] = 'lightblue'\n",
    "colors[5] = 'darkblue'\n",
    "\n",
    "colors2 = ['lightsalmon'] * 6\n",
    "colors2[3] = 'lightblue'\n",
    "colors2[5] = 'darkblue'\n",
    "\n",
    "\n",
    "\n",
    "\n",
    "# fig = px.bar(\n",
    "#              sender_receiver, x=sender_receiver.department, y=[sender_receiver.sender, sender_receiver.receiver], \n",
    "#              title = 'Amount of Messages Sent/Received by Department',\n",
    "#              labels = {\n",
    "#                        'value':'Number of Messages Sent/Received',\n",
    "#                        'department':'Department',\n",
    "#                        'variable': 'Legend'\n",
    "#              },\n",
    "#              barmode = \"group\",\n",
    "#              text_auto=True\n",
    "#             )\n",
    "# fig.update_traces(textfont_size=12, textangle=0, textposition=\"outside\", cliponaxis=False)\n",
    "# fig.show()\n",
    "\n",
    "\n",
    "fig = go.Figure()\n",
    "fig.add_trace(go.Bar(\n",
    "    x=sender_receiver.department,\n",
    "    y=sender_receiver.sender,\n",
    "    name='Sender',\n",
    "    marker_color=colors,\n",
    "    text = sender_receiver.sender,\n",
    "    textposition=\"outside\"\n",
    "))\n",
    "fig.add_trace(go.Bar(\n",
    "    x=sender_receiver.department,\n",
    "    y=sender_receiver.receiver,\n",
    "    name='Receiver',\n",
    "    marker_color=colors2,\n",
    "    text = sender_receiver.receiver,\n",
    "    textposition=\"outside\"\n",
    "))\n",
    "\n",
    "fig.update_layout(barmode='group', xaxis_tickangle=-45, \n",
    "                  title = 'Amount of Messages Sent/Received by Department',\n",
    "                  xaxis_title=\"Department\",\n",
    "                  yaxis_title=\"Number of Messages Sent/Received\",\n",
    "                  legend_title='Legend'\n",
    "                  )\n",
    "# fig.update_traces(textfont_size=12, textangle=0, textposition=\"outside\", cliponaxis=False)\n",
    "# fig.add_annotation(x='Marketing', y=200,\n",
    "#             text=\"Least active\",\n",
    "#             showarrow=False,\n",
    "#             yshift=100,\n",
    "#             arrowhead=1)\n",
    "\n",
    "# fig.add_annotation(x='Sales', y=1600,\n",
    "#             text=\"Most active\",\n",
    "#             showarrow=False,\n",
    "#             yshift=100,\n",
    "#             arrowhead=1)\n",
    "\n",
    "fig.show()"
   ]
  },
  {
   "cell_type": "markdown",
   "id": "bb7260bb",
   "metadata": {},
   "source": [
    "### Graph Analysis\n",
    "##### From the graph above, we can see that the Sales department (highlighted in dark blue) sent and received the most messages, while the Marketing department (highlighted in light blue) sent and received the least amount of messages. We can say that the Sales department is the most active departments with their high volume of messages exchanged while the Marketing department is the least."
   ]
  },
  {
   "cell_type": "markdown",
   "id": "cb0f1e5f",
   "metadata": {},
   "source": [
    "### Which employee has the most connections?"
   ]
  },
  {
   "cell_type": "code",
   "execution_count": 160,
   "id": "8be1f02b",
   "metadata": {},
   "outputs": [
    {
     "data": {
      "text/html": [
       "<div>\n",
       "<style scoped>\n",
       "    .dataframe tbody tr th:only-of-type {\n",
       "        vertical-align: middle;\n",
       "    }\n",
       "\n",
       "    .dataframe tbody tr th {\n",
       "        vertical-align: top;\n",
       "    }\n",
       "\n",
       "    .dataframe thead th {\n",
       "        text-align: right;\n",
       "    }\n",
       "</style>\n",
       "<table border=\"1\" class=\"dataframe\">\n",
       "  <thead>\n",
       "    <tr style=\"text-align: right;\">\n",
       "      <th></th>\n",
       "      <th>id</th>\n",
       "      <th>messages_sent</th>\n",
       "      <th>messages_received</th>\n",
       "    </tr>\n",
       "  </thead>\n",
       "  <tbody>\n",
       "    <tr>\n",
       "      <th>0</th>\n",
       "      <td>598</td>\n",
       "      <td>77.0</td>\n",
       "      <td>7.0</td>\n",
       "    </tr>\n",
       "    <tr>\n",
       "      <th>1</th>\n",
       "      <td>144</td>\n",
       "      <td>75.0</td>\n",
       "      <td>3.0</td>\n",
       "    </tr>\n",
       "    <tr>\n",
       "      <th>2</th>\n",
       "      <td>128</td>\n",
       "      <td>71.0</td>\n",
       "      <td>4.0</td>\n",
       "    </tr>\n",
       "    <tr>\n",
       "      <th>3</th>\n",
       "      <td>605</td>\n",
       "      <td>68.0</td>\n",
       "      <td>3.0</td>\n",
       "    </tr>\n",
       "    <tr>\n",
       "      <th>4</th>\n",
       "      <td>586</td>\n",
       "      <td>64.0</td>\n",
       "      <td>1.0</td>\n",
       "    </tr>\n",
       "    <tr>\n",
       "      <th>...</th>\n",
       "      <td>...</td>\n",
       "      <td>...</td>\n",
       "      <td>...</td>\n",
       "    </tr>\n",
       "    <tr>\n",
       "      <th>657</th>\n",
       "      <td>706</td>\n",
       "      <td>0.0</td>\n",
       "      <td>1.0</td>\n",
       "    </tr>\n",
       "    <tr>\n",
       "      <th>658</th>\n",
       "      <td>685</td>\n",
       "      <td>0.0</td>\n",
       "      <td>1.0</td>\n",
       "    </tr>\n",
       "    <tr>\n",
       "      <th>659</th>\n",
       "      <td>681</td>\n",
       "      <td>0.0</td>\n",
       "      <td>1.0</td>\n",
       "    </tr>\n",
       "    <tr>\n",
       "      <th>660</th>\n",
       "      <td>680</td>\n",
       "      <td>0.0</td>\n",
       "      <td>1.0</td>\n",
       "    </tr>\n",
       "    <tr>\n",
       "      <th>663</th>\n",
       "      <td>1890</td>\n",
       "      <td>0.0</td>\n",
       "      <td>1.0</td>\n",
       "    </tr>\n",
       "  </tbody>\n",
       "</table>\n",
       "<p>664 rows × 3 columns</p>\n",
       "</div>"
      ],
      "text/plain": [
       "       id  messages_sent  messages_received\n",
       "0     598           77.0                7.0\n",
       "1     144           75.0                3.0\n",
       "2     128           71.0                4.0\n",
       "3     605           68.0                3.0\n",
       "4     586           64.0                1.0\n",
       "..    ...            ...                ...\n",
       "657   706            0.0                1.0\n",
       "658   685            0.0                1.0\n",
       "659   681            0.0                1.0\n",
       "660   680            0.0                1.0\n",
       "663  1890            0.0                1.0\n",
       "\n",
       "[664 rows x 3 columns]"
      ]
     },
     "execution_count": 160,
     "metadata": {},
     "output_type": "execute_result"
    }
   ],
   "source": [
    "# To find employee with most connections, we need to make sure the sender and the receiver can't be repeated (since it would only counted as 'knowing' one person)\n",
    "# So we need to filter out these rows by picking sender and receiver, message_length is a randomly picked column for us to count later\n",
    "connection = df2[['sender', 'receiver', 'message_length']]\n",
    "connection = connection.sort_values('message_length').drop_duplicates(subset=['sender', 'receiver'], keep='last')\n",
    "\n",
    "\n",
    "# Count the number of (distinct) sender and receiver\n",
    "connection_sender = connection.groupby(['sender']).agg({'message_length': 'count'}).sort_values(by=['message_length'], ascending=False).reset_index().rename(columns={'message_length': 'count'})\n",
    "connection_receiver = connection.groupby(['receiver']).agg({'message_length': 'count'}).sort_values(by=['message_length'], ascending=False).reset_index().rename(columns={'message_length': 'count', 'receiver': 'sender'})\n",
    "connection_sender_receiver = connection_sender.merge(connection_receiver, on='sender', how='outer').rename(columns={'sender': 'id', 'count_x': 'messages_sent', 'count_y': 'messages_received'}).fillna(0)\n",
    "connection_sender_receiver = connection_sender_receiver.sort_values(by='messages_sent', ascending=False)\n",
    "connection_sender_receiver.sort_values(by='messages_sent', ascending=False)\n"
   ]
  },
  {
   "cell_type": "code",
   "execution_count": 161,
   "id": "fa5b4fb0",
   "metadata": {},
   "outputs": [
    {
     "data": {
      "text/html": [
       "<div>\n",
       "<style scoped>\n",
       "    .dataframe tbody tr th:only-of-type {\n",
       "        vertical-align: middle;\n",
       "    }\n",
       "\n",
       "    .dataframe tbody tr th {\n",
       "        vertical-align: top;\n",
       "    }\n",
       "\n",
       "    .dataframe thead th {\n",
       "        text-align: right;\n",
       "    }\n",
       "</style>\n",
       "<table border=\"1\" class=\"dataframe\">\n",
       "  <thead>\n",
       "    <tr style=\"text-align: right;\">\n",
       "      <th></th>\n",
       "      <th>sender</th>\n",
       "      <th>receiver</th>\n",
       "      <th>timestamp</th>\n",
       "      <th>message_length</th>\n",
       "      <th>id_sender</th>\n",
       "      <th>department_sender</th>\n",
       "      <th>location_sender</th>\n",
       "      <th>age_sender</th>\n",
       "      <th>id_receiver</th>\n",
       "      <th>department_receiver</th>\n",
       "      <th>location_receiver</th>\n",
       "      <th>age_receiver</th>\n",
       "    </tr>\n",
       "  </thead>\n",
       "  <tbody>\n",
       "    <tr>\n",
       "      <th>93</th>\n",
       "      <td>598</td>\n",
       "      <td>32</td>\n",
       "      <td>2021-06-13T19:24:27.000Z</td>\n",
       "      <td>64</td>\n",
       "      <td>598</td>\n",
       "      <td>Operations</td>\n",
       "      <td>US</td>\n",
       "      <td>38</td>\n",
       "      <td>32</td>\n",
       "      <td>Sales</td>\n",
       "      <td>UK</td>\n",
       "      <td>54</td>\n",
       "    </tr>\n",
       "    <tr>\n",
       "      <th>94</th>\n",
       "      <td>598</td>\n",
       "      <td>32</td>\n",
       "      <td>2021-06-27T04:45:21.000Z</td>\n",
       "      <td>80</td>\n",
       "      <td>598</td>\n",
       "      <td>Operations</td>\n",
       "      <td>US</td>\n",
       "      <td>38</td>\n",
       "      <td>32</td>\n",
       "      <td>Sales</td>\n",
       "      <td>UK</td>\n",
       "      <td>54</td>\n",
       "    </tr>\n",
       "    <tr>\n",
       "      <th>95</th>\n",
       "      <td>598</td>\n",
       "      <td>32</td>\n",
       "      <td>2021-06-27T22:29:48.000Z</td>\n",
       "      <td>35</td>\n",
       "      <td>598</td>\n",
       "      <td>Operations</td>\n",
       "      <td>US</td>\n",
       "      <td>38</td>\n",
       "      <td>32</td>\n",
       "      <td>Sales</td>\n",
       "      <td>UK</td>\n",
       "      <td>54</td>\n",
       "    </tr>\n",
       "    <tr>\n",
       "      <th>128</th>\n",
       "      <td>598</td>\n",
       "      <td>88</td>\n",
       "      <td>2021-07-08T16:15:20.000Z</td>\n",
       "      <td>43</td>\n",
       "      <td>598</td>\n",
       "      <td>Operations</td>\n",
       "      <td>US</td>\n",
       "      <td>38</td>\n",
       "      <td>88</td>\n",
       "      <td>IT</td>\n",
       "      <td>US</td>\n",
       "      <td>23</td>\n",
       "    </tr>\n",
       "    <tr>\n",
       "      <th>372</th>\n",
       "      <td>598</td>\n",
       "      <td>834</td>\n",
       "      <td>2021-06-27T05:59:05.000Z</td>\n",
       "      <td>16</td>\n",
       "      <td>598</td>\n",
       "      <td>Operations</td>\n",
       "      <td>US</td>\n",
       "      <td>38</td>\n",
       "      <td>834</td>\n",
       "      <td>IT</td>\n",
       "      <td>France</td>\n",
       "      <td>29</td>\n",
       "    </tr>\n",
       "    <tr>\n",
       "      <th>...</th>\n",
       "      <td>...</td>\n",
       "      <td>...</td>\n",
       "      <td>...</td>\n",
       "      <td>...</td>\n",
       "      <td>...</td>\n",
       "      <td>...</td>\n",
       "      <td>...</td>\n",
       "      <td>...</td>\n",
       "      <td>...</td>\n",
       "      <td>...</td>\n",
       "      <td>...</td>\n",
       "      <td>...</td>\n",
       "    </tr>\n",
       "    <tr>\n",
       "      <th>3042</th>\n",
       "      <td>598</td>\n",
       "      <td>1474</td>\n",
       "      <td>2021-07-22T04:17:46.000Z</td>\n",
       "      <td>30</td>\n",
       "      <td>598</td>\n",
       "      <td>Operations</td>\n",
       "      <td>US</td>\n",
       "      <td>38</td>\n",
       "      <td>1474</td>\n",
       "      <td>Engineering</td>\n",
       "      <td>US</td>\n",
       "      <td>24</td>\n",
       "    </tr>\n",
       "    <tr>\n",
       "      <th>3043</th>\n",
       "      <td>598</td>\n",
       "      <td>1290</td>\n",
       "      <td>2021-07-10T06:22:26.000Z</td>\n",
       "      <td>40</td>\n",
       "      <td>598</td>\n",
       "      <td>Operations</td>\n",
       "      <td>US</td>\n",
       "      <td>38</td>\n",
       "      <td>1290</td>\n",
       "      <td>IT</td>\n",
       "      <td>UK</td>\n",
       "      <td>29</td>\n",
       "    </tr>\n",
       "    <tr>\n",
       "      <th>3044</th>\n",
       "      <td>598</td>\n",
       "      <td>1517</td>\n",
       "      <td>2021-07-12T00:02:19.000Z</td>\n",
       "      <td>15</td>\n",
       "      <td>598</td>\n",
       "      <td>Operations</td>\n",
       "      <td>US</td>\n",
       "      <td>38</td>\n",
       "      <td>1517</td>\n",
       "      <td>Admin</td>\n",
       "      <td>Germany</td>\n",
       "      <td>58</td>\n",
       "    </tr>\n",
       "    <tr>\n",
       "      <th>3046</th>\n",
       "      <td>598</td>\n",
       "      <td>1538</td>\n",
       "      <td>2021-07-13T02:10:30.000Z</td>\n",
       "      <td>32</td>\n",
       "      <td>598</td>\n",
       "      <td>Operations</td>\n",
       "      <td>US</td>\n",
       "      <td>38</td>\n",
       "      <td>1538</td>\n",
       "      <td>Operations</td>\n",
       "      <td>US</td>\n",
       "      <td>55</td>\n",
       "    </tr>\n",
       "    <tr>\n",
       "      <th>3047</th>\n",
       "      <td>598</td>\n",
       "      <td>1562</td>\n",
       "      <td>2021-07-14T06:54:44.000Z</td>\n",
       "      <td>10</td>\n",
       "      <td>598</td>\n",
       "      <td>Operations</td>\n",
       "      <td>US</td>\n",
       "      <td>38</td>\n",
       "      <td>1562</td>\n",
       "      <td>Engineering</td>\n",
       "      <td>US</td>\n",
       "      <td>32</td>\n",
       "    </tr>\n",
       "  </tbody>\n",
       "</table>\n",
       "<p>187 rows × 12 columns</p>\n",
       "</div>"
      ],
      "text/plain": [
       "      sender  receiver                 timestamp  message_length  id_sender  \\\n",
       "93       598        32  2021-06-13T19:24:27.000Z              64        598   \n",
       "94       598        32  2021-06-27T04:45:21.000Z              80        598   \n",
       "95       598        32  2021-06-27T22:29:48.000Z              35        598   \n",
       "128      598        88  2021-07-08T16:15:20.000Z              43        598   \n",
       "372      598       834  2021-06-27T05:59:05.000Z              16        598   \n",
       "...      ...       ...                       ...             ...        ...   \n",
       "3042     598      1474  2021-07-22T04:17:46.000Z              30        598   \n",
       "3043     598      1290  2021-07-10T06:22:26.000Z              40        598   \n",
       "3044     598      1517  2021-07-12T00:02:19.000Z              15        598   \n",
       "3046     598      1538  2021-07-13T02:10:30.000Z              32        598   \n",
       "3047     598      1562  2021-07-14T06:54:44.000Z              10        598   \n",
       "\n",
       "     department_sender location_sender  age_sender  id_receiver  \\\n",
       "93          Operations              US          38           32   \n",
       "94          Operations              US          38           32   \n",
       "95          Operations              US          38           32   \n",
       "128         Operations              US          38           88   \n",
       "372         Operations              US          38          834   \n",
       "...                ...             ...         ...          ...   \n",
       "3042        Operations              US          38         1474   \n",
       "3043        Operations              US          38         1290   \n",
       "3044        Operations              US          38         1517   \n",
       "3046        Operations              US          38         1538   \n",
       "3047        Operations              US          38         1562   \n",
       "\n",
       "     department_receiver location_receiver  age_receiver  \n",
       "93                 Sales                UK            54  \n",
       "94                 Sales                UK            54  \n",
       "95                 Sales                UK            54  \n",
       "128                   IT                US            23  \n",
       "372                   IT            France            29  \n",
       "...                  ...               ...           ...  \n",
       "3042         Engineering                US            24  \n",
       "3043                  IT                UK            29  \n",
       "3044               Admin           Germany            58  \n",
       "3046          Operations                US            55  \n",
       "3047         Engineering                US            32  \n",
       "\n",
       "[187 rows x 12 columns]"
      ]
     },
     "execution_count": 161,
     "metadata": {},
     "output_type": "execute_result"
    }
   ],
   "source": [
    "df2[df2.sender == 598]"
   ]
  },
  {
   "cell_type": "code",
   "execution_count": 8,
   "id": "d2654615",
   "metadata": {},
   "outputs": [
    {
     "data": {
      "text/html": [
       "<div>\n",
       "<style scoped>\n",
       "    .dataframe tbody tr th:only-of-type {\n",
       "        vertical-align: middle;\n",
       "    }\n",
       "\n",
       "    .dataframe tbody tr th {\n",
       "        vertical-align: top;\n",
       "    }\n",
       "\n",
       "    .dataframe thead th {\n",
       "        text-align: right;\n",
       "    }\n",
       "</style>\n",
       "<table border=\"1\" class=\"dataframe\">\n",
       "  <thead>\n",
       "    <tr style=\"text-align: right;\">\n",
       "      <th></th>\n",
       "      <th>sender</th>\n",
       "      <th>receiver</th>\n",
       "      <th>timestamp</th>\n",
       "      <th>message_length</th>\n",
       "      <th>id_sender</th>\n",
       "      <th>department_sender</th>\n",
       "      <th>location_sender</th>\n",
       "      <th>age_sender</th>\n",
       "      <th>id_receiver</th>\n",
       "      <th>department_receiver</th>\n",
       "      <th>location_receiver</th>\n",
       "      <th>age_receiver</th>\n",
       "    </tr>\n",
       "  </thead>\n",
       "  <tbody>\n",
       "    <tr>\n",
       "      <th>2487</th>\n",
       "      <td>469</td>\n",
       "      <td>1629</td>\n",
       "      <td>2021-11-24T05:04:57.000Z</td>\n",
       "      <td>82</td>\n",
       "      <td>469</td>\n",
       "      <td>Operations</td>\n",
       "      <td>France</td>\n",
       "      <td>54</td>\n",
       "      <td>1629</td>\n",
       "      <td>Sales</td>\n",
       "      <td>Brasil</td>\n",
       "      <td>35</td>\n",
       "    </tr>\n",
       "    <tr>\n",
       "      <th>2490</th>\n",
       "      <td>469</td>\n",
       "      <td>1629</td>\n",
       "      <td>2021-11-24T05:04:57.000Z</td>\n",
       "      <td>75</td>\n",
       "      <td>469</td>\n",
       "      <td>Operations</td>\n",
       "      <td>France</td>\n",
       "      <td>54</td>\n",
       "      <td>1629</td>\n",
       "      <td>Sales</td>\n",
       "      <td>Brasil</td>\n",
       "      <td>35</td>\n",
       "    </tr>\n",
       "  </tbody>\n",
       "</table>\n",
       "</div>"
      ],
      "text/plain": [
       "      sender  receiver                 timestamp  message_length  id_sender  \\\n",
       "2487     469      1629  2021-11-24T05:04:57.000Z              82        469   \n",
       "2490     469      1629  2021-11-24T05:04:57.000Z              75        469   \n",
       "\n",
       "     department_sender location_sender  age_sender  id_receiver  \\\n",
       "2487        Operations          France          54         1629   \n",
       "2490        Operations          France          54         1629   \n",
       "\n",
       "     department_receiver location_receiver  age_receiver  \n",
       "2487               Sales            Brasil            35  \n",
       "2490               Sales            Brasil            35  "
      ]
     },
     "execution_count": 8,
     "metadata": {},
     "output_type": "execute_result"
    }
   ],
   "source": [
    "test = df2.groupby('timestamp').agg({'receiver': 'count'}).reset_index()\n",
    "test = test.sort_values(by=['timestamp'])\n",
    "test\n",
    "\n",
    "test = df2[df2.timestamp == '2021-11-24T05:04:57.000Z']\n",
    "test"
   ]
  },
  {
   "cell_type": "code",
   "execution_count": 9,
   "id": "16c69a51",
   "metadata": {},
   "outputs": [
    {
     "data": {
      "text/html": [
       "<div>\n",
       "<style scoped>\n",
       "    .dataframe tbody tr th:only-of-type {\n",
       "        vertical-align: middle;\n",
       "    }\n",
       "\n",
       "    .dataframe tbody tr th {\n",
       "        vertical-align: top;\n",
       "    }\n",
       "\n",
       "    .dataframe thead th {\n",
       "        text-align: right;\n",
       "    }\n",
       "</style>\n",
       "<table border=\"1\" class=\"dataframe\">\n",
       "  <thead>\n",
       "    <tr style=\"text-align: right;\">\n",
       "      <th></th>\n",
       "      <th></th>\n",
       "      <th>sender</th>\n",
       "    </tr>\n",
       "    <tr>\n",
       "      <th>department_receiver</th>\n",
       "      <th>department_sender</th>\n",
       "      <th></th>\n",
       "    </tr>\n",
       "  </thead>\n",
       "  <tbody>\n",
       "    <tr>\n",
       "      <th rowspan=\"6\" valign=\"top\">Admin</th>\n",
       "      <th>Admin</th>\n",
       "      <td>172</td>\n",
       "    </tr>\n",
       "    <tr>\n",
       "      <th>Engineering</th>\n",
       "      <td>4</td>\n",
       "    </tr>\n",
       "    <tr>\n",
       "      <th>IT</th>\n",
       "      <td>8</td>\n",
       "    </tr>\n",
       "    <tr>\n",
       "      <th>Marketing</th>\n",
       "      <td>4</td>\n",
       "    </tr>\n",
       "    <tr>\n",
       "      <th>Operations</th>\n",
       "      <td>245</td>\n",
       "    </tr>\n",
       "    <tr>\n",
       "      <th>Sales</th>\n",
       "      <td>364</td>\n",
       "    </tr>\n",
       "    <tr>\n",
       "      <th rowspan=\"6\" valign=\"top\">Engineering</th>\n",
       "      <th>Admin</th>\n",
       "      <td>33</td>\n",
       "    </tr>\n",
       "    <tr>\n",
       "      <th>Engineering</th>\n",
       "      <td>6</td>\n",
       "    </tr>\n",
       "    <tr>\n",
       "      <th>IT</th>\n",
       "      <td>6</td>\n",
       "    </tr>\n",
       "    <tr>\n",
       "      <th>Marketing</th>\n",
       "      <td>2</td>\n",
       "    </tr>\n",
       "    <tr>\n",
       "      <th>Operations</th>\n",
       "      <td>91</td>\n",
       "    </tr>\n",
       "    <tr>\n",
       "      <th>Sales</th>\n",
       "      <td>114</td>\n",
       "    </tr>\n",
       "    <tr>\n",
       "      <th rowspan=\"5\" valign=\"top\">IT</th>\n",
       "      <th>Admin</th>\n",
       "      <td>48</td>\n",
       "    </tr>\n",
       "    <tr>\n",
       "      <th>Engineering</th>\n",
       "      <td>3</td>\n",
       "    </tr>\n",
       "    <tr>\n",
       "      <th>IT</th>\n",
       "      <td>6</td>\n",
       "    </tr>\n",
       "    <tr>\n",
       "      <th>Operations</th>\n",
       "      <td>76</td>\n",
       "    </tr>\n",
       "    <tr>\n",
       "      <th>Sales</th>\n",
       "      <td>116</td>\n",
       "    </tr>\n",
       "    <tr>\n",
       "      <th rowspan=\"4\" valign=\"top\">Marketing</th>\n",
       "      <th>Admin</th>\n",
       "      <td>19</td>\n",
       "    </tr>\n",
       "    <tr>\n",
       "      <th>IT</th>\n",
       "      <td>3</td>\n",
       "    </tr>\n",
       "    <tr>\n",
       "      <th>Operations</th>\n",
       "      <td>40</td>\n",
       "    </tr>\n",
       "    <tr>\n",
       "      <th>Sales</th>\n",
       "      <td>78</td>\n",
       "    </tr>\n",
       "    <tr>\n",
       "      <th rowspan=\"6\" valign=\"top\">Operations</th>\n",
       "      <th>Admin</th>\n",
       "      <td>287</td>\n",
       "    </tr>\n",
       "    <tr>\n",
       "      <th>Engineering</th>\n",
       "      <td>8</td>\n",
       "    </tr>\n",
       "    <tr>\n",
       "      <th>IT</th>\n",
       "      <td>10</td>\n",
       "    </tr>\n",
       "    <tr>\n",
       "      <th>Marketing</th>\n",
       "      <td>2</td>\n",
       "    </tr>\n",
       "    <tr>\n",
       "      <th>Operations</th>\n",
       "      <td>198</td>\n",
       "    </tr>\n",
       "    <tr>\n",
       "      <th>Sales</th>\n",
       "      <td>340</td>\n",
       "    </tr>\n",
       "    <tr>\n",
       "      <th rowspan=\"6\" valign=\"top\">Sales</th>\n",
       "      <th>Admin</th>\n",
       "      <td>298</td>\n",
       "    </tr>\n",
       "    <tr>\n",
       "      <th>Engineering</th>\n",
       "      <td>5</td>\n",
       "    </tr>\n",
       "    <tr>\n",
       "      <th>IT</th>\n",
       "      <td>16</td>\n",
       "    </tr>\n",
       "    <tr>\n",
       "      <th>Marketing</th>\n",
       "      <td>8</td>\n",
       "    </tr>\n",
       "    <tr>\n",
       "      <th>Operations</th>\n",
       "      <td>363</td>\n",
       "    </tr>\n",
       "    <tr>\n",
       "      <th>Sales</th>\n",
       "      <td>539</td>\n",
       "    </tr>\n",
       "  </tbody>\n",
       "</table>\n",
       "</div>"
      ],
      "text/plain": [
       "                                       sender\n",
       "department_receiver department_sender        \n",
       "Admin               Admin                 172\n",
       "                    Engineering             4\n",
       "                    IT                      8\n",
       "                    Marketing               4\n",
       "                    Operations            245\n",
       "                    Sales                 364\n",
       "Engineering         Admin                  33\n",
       "                    Engineering             6\n",
       "                    IT                      6\n",
       "                    Marketing               2\n",
       "                    Operations             91\n",
       "                    Sales                 114\n",
       "IT                  Admin                  48\n",
       "                    Engineering             3\n",
       "                    IT                      6\n",
       "                    Operations             76\n",
       "                    Sales                 116\n",
       "Marketing           Admin                  19\n",
       "                    IT                      3\n",
       "                    Operations             40\n",
       "                    Sales                  78\n",
       "Operations          Admin                 287\n",
       "                    Engineering             8\n",
       "                    IT                     10\n",
       "                    Marketing               2\n",
       "                    Operations            198\n",
       "                    Sales                 340\n",
       "Sales               Admin                 298\n",
       "                    Engineering             5\n",
       "                    IT                     16\n",
       "                    Marketing               8\n",
       "                    Operations            363\n",
       "                    Sales                 539"
      ]
     },
     "execution_count": 9,
     "metadata": {},
     "output_type": "execute_result"
    }
   ],
   "source": [
    "gg2 = df2.groupby(['department_receiver', 'department_sender']).agg({'sender': 'count'})\n",
    "gg2"
   ]
  }
 ],
 "metadata": {
  "kernelspec": {
   "display_name": "Python 3 (ipykernel)",
   "language": "python",
   "name": "python3"
  },
  "language_info": {
   "codemirror_mode": {
    "name": "ipython",
    "version": 3
   },
   "file_extension": ".py",
   "mimetype": "text/x-python",
   "name": "python",
   "nbconvert_exporter": "python",
   "pygments_lexer": "ipython3",
   "version": "3.9.7"
  }
 },
 "nbformat": 4,
 "nbformat_minor": 5
}
